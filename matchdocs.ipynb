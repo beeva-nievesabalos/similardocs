{
 "cells": [
  {
   "cell_type": "code",
   "execution_count": 1,
   "metadata": {
    "collapsed": false
   },
   "outputs": [],
   "source": [
    "import pandas as pd"
   ]
  },
  {
   "cell_type": "code",
   "execution_count": 2,
   "metadata": {
    "collapsed": false
   },
   "outputs": [
    {
     "name": "stdout",
     "output_type": "stream",
     "text": [
      "720 rows of offers\n",
      "5 attributes - offers\n"
     ]
    },
    {
     "data": {
      "text/html": [
       "<div style=\"max-height:1000px;max-width:1500px;overflow:auto;\">\n",
       "<table border=\"1\" class=\"dataframe\">\n",
       "  <thead>\n",
       "    <tr style=\"text-align: right;\">\n",
       "      <th></th>\n",
       "      <th>referencia</th>\n",
       "      <th>puesto</th>\n",
       "      <th>description</th>\n",
       "      <th>date</th>\n",
       "      <th>company</th>\n",
       "      <th>text</th>\n",
       "    </tr>\n",
       "  </thead>\n",
       "  <tbody>\n",
       "    <tr>\n",
       "      <th>0</th>\n",
       "      <td> HXN342</td>\n",
       "      <td>              Business Development Manager Algeria</td>\n",
       "      <td>         International packaging company\\n    &lt;...</td>\n",
       "      <td> 1435096800</td>\n",
       "      <td>    </td>\n",
       "      <td> Business Development Manager Algeria         I...</td>\n",
       "    </tr>\n",
       "    <tr>\n",
       "      <th>1</th>\n",
       "      <td>  T8962</td>\n",
       "      <td>                  Directeur de Ressources Humaines</td>\n",
       "      <td>         Notre client, société industrielle, le...</td>\n",
       "      <td> 1266274800</td>\n",
       "      <td>    </td>\n",
       "      <td> Directeur de Ressources Humaines         Notre...</td>\n",
       "    </tr>\n",
       "    <tr>\n",
       "      <th>2</th>\n",
       "      <td> HQX347</td>\n",
       "      <td>                   Gerente de Proyectos I (Junior)</td>\n",
       "      <td>         BT Global Services is a managed networ...</td>\n",
       "      <td> 1417734000</td>\n",
       "      <td> 238</td>\n",
       "      <td> Gerente de Proyectos I (Junior)         BT Glo...</td>\n",
       "    </tr>\n",
       "    <tr>\n",
       "      <th>3</th>\n",
       "      <td> HQX297</td>\n",
       "      <td>               Lider de Proyectos Plataforma Linux</td>\n",
       "      <td>         BT Global Services is a managed networ...</td>\n",
       "      <td> 1417647600</td>\n",
       "      <td> 238</td>\n",
       "      <td> Lider de Proyectos Plataforma Linux         BT...</td>\n",
       "    </tr>\n",
       "    <tr>\n",
       "      <th>4</th>\n",
       "      <td> HQR734</td>\n",
       "      <td> Analista de Gestión de Eventos de Infraestructura</td>\n",
       "      <td>         BT Global Services is a managed networ...</td>\n",
       "      <td> 1416265200</td>\n",
       "      <td> 238</td>\n",
       "      <td> Analista de Gestión de Eventos de Infraestruct...</td>\n",
       "    </tr>\n",
       "  </tbody>\n",
       "</table>\n",
       "<p>5 rows × 6 columns</p>\n",
       "</div>"
      ],
      "text/plain": [
       "  referencia                                             puesto  \\\n",
       "0     HXN342               Business Development Manager Algeria   \n",
       "1      T8962                   Directeur de Ressources Humaines   \n",
       "2     HQX347                    Gerente de Proyectos I (Junior)   \n",
       "3     HQX297                Lider de Proyectos Plataforma Linux   \n",
       "4     HQR734  Analista de Gestión de Eventos de Infraestructura   \n",
       "\n",
       "                                         description        date company  \\\n",
       "0          International packaging company\\n    <...  1435096800           \n",
       "1          Notre client, société industrielle, le...  1266274800           \n",
       "2          BT Global Services is a managed networ...  1417734000     238   \n",
       "3          BT Global Services is a managed networ...  1417647600     238   \n",
       "4          BT Global Services is a managed networ...  1416265200     238   \n",
       "\n",
       "                                                text  \n",
       "0  Business Development Manager Algeria         I...  \n",
       "1  Directeur de Ressources Humaines         Notre...  \n",
       "2  Gerente de Proyectos I (Junior)         BT Glo...  \n",
       "3  Lider de Proyectos Plataforma Linux         BT...  \n",
       "4  Analista de Gestión de Eventos de Infraestruct...  \n",
       "\n",
       "[5 rows x 6 columns]"
      ]
     },
     "execution_count": 2,
     "metadata": {},
     "output_type": "execute_result"
    }
   ],
   "source": [
    "df_offer = pd.read_csv(\"offer.csv\")\n",
    "print (\"%d rows of offers\" % df_offer.shape[0])\n",
    "print (\"%d attributes - offers\" % df_offer.shape[1])\n",
    "df_offer.columns = ['referencia', 'puesto', 'description', 'date', 'company']\n",
    "df_offer = df_offer.fillna(\" \")\n",
    "df_offer[\"text\"] = df_offer[\"puesto\"] + \" \" + df_offer[\"description\"]\n",
    "df_offer.head()"
   ]
  },
  {
   "cell_type": "code",
   "execution_count": 3,
   "metadata": {
    "collapsed": false
   },
   "outputs": [
    {
     "name": "stdout",
     "output_type": "stream",
     "text": [
      "416 rows of CVs\n",
      "5 attributes - CVs\n",
      "760 rows of experience\n",
      "10 attributes - experience\n"
     ]
    }
   ],
   "source": [
    "df_cv = pd.read_csv(\"cv.csv\")\n",
    "df_cv.columns = ['idcv', 'iduser', 'main_title', 'headline', 'interest']\n",
    "df_cv = df_cv.fillna(\" \")\n",
    "print (\"%d rows of CVs\" % df_cv.shape[0])\n",
    "print (\"%d attributes - CVs\" % df_cv.shape[1])\n",
    "\n",
    "\n",
    "df_experience = pd.read_csv(\"experience.csv\")\n",
    "df_experience.columns = ['id', 'idcv', 'idcity', 'idsector', 'title', 'start', 'end', 'description', 'company', 'current']\n",
    "df_experience = df_experience.fillna(\" \")\n",
    "print (\"%d rows of experience\" % df_experience.shape[0])\n",
    "print (\"%d attributes - experience\" % df_experience.shape[1])"
   ]
  },
  {
   "cell_type": "code",
   "execution_count": 4,
   "metadata": {
    "collapsed": false
   },
   "outputs": [
    {
     "name": "stdout",
     "output_type": "stream",
     "text": [
      "877 rows of CVs merged\n"
     ]
    },
    {
     "data": {
      "text/html": [
       "<div style=\"max-height:1000px;max-width:1500px;overflow:auto;\">\n",
       "<table border=\"1\" class=\"dataframe\">\n",
       "  <thead>\n",
       "    <tr style=\"text-align: right;\">\n",
       "      <th></th>\n",
       "      <th>idcv</th>\n",
       "      <th>iduser</th>\n",
       "      <th>main_title</th>\n",
       "      <th>headline</th>\n",
       "      <th>interest</th>\n",
       "      <th>id</th>\n",
       "      <th>idcity</th>\n",
       "      <th>idsector</th>\n",
       "      <th>title</th>\n",
       "      <th>start</th>\n",
       "      <th>end</th>\n",
       "      <th>description</th>\n",
       "      <th>company</th>\n",
       "      <th>current</th>\n",
       "    </tr>\n",
       "  </thead>\n",
       "  <tbody>\n",
       "    <tr>\n",
       "      <th>0</th>\n",
       "      <td> 789</td>\n",
       "      <td>   48</td>\n",
       "      <td>  </td>\n",
       "      <td>                                                  </td>\n",
       "      <td>                                                  </td>\n",
       "      <td>     </td>\n",
       "      <td>  </td>\n",
       "      <td>  </td>\n",
       "      <td>                                                  </td>\n",
       "      <td>        </td>\n",
       "      <td>  </td>\n",
       "      <td>                                                  </td>\n",
       "      <td>                             </td>\n",
       "      <td>  </td>\n",
       "    </tr>\n",
       "    <tr>\n",
       "      <th>1</th>\n",
       "      <td> 925</td>\n",
       "      <td> 1350</td>\n",
       "      <td>  </td>\n",
       "      <td> ? Web Developer | ? Social Media Photography a...</td>\n",
       "      <td> Karate addict for 31 years, personal training ...</td>\n",
       "      <td> 3257</td>\n",
       "      <td>  </td>\n",
       "      <td> 6</td>\n",
       "      <td>                  Social Media Business Strategist</td>\n",
       "      <td> 2013-12</td>\n",
       "      <td>  </td>\n",
       "      <td> Social Media Strategist: N-Tranz Records, was ...</td>\n",
       "      <td>              N-Tranz Records</td>\n",
       "      <td> 1</td>\n",
       "    </tr>\n",
       "    <tr>\n",
       "      <th>2</th>\n",
       "      <td> 925</td>\n",
       "      <td> 1350</td>\n",
       "      <td>  </td>\n",
       "      <td> ? Web Developer | ? Social Media Photography a...</td>\n",
       "      <td> Karate addict for 31 years, personal training ...</td>\n",
       "      <td> 3258</td>\n",
       "      <td>  </td>\n",
       "      <td> 6</td>\n",
       "      <td>                  Google Digital Analytics Academy</td>\n",
       "      <td> 2013-10</td>\n",
       "      <td>  </td>\n",
       "      <td> Google Digital Analytics Academy, gave me the ...</td>\n",
       "      <td>                       Google</td>\n",
       "      <td> 1</td>\n",
       "    </tr>\n",
       "    <tr>\n",
       "      <th>3</th>\n",
       "      <td> 925</td>\n",
       "      <td> 1350</td>\n",
       "      <td>  </td>\n",
       "      <td> ? Web Developer | ? Social Media Photography a...</td>\n",
       "      <td> Karate addict for 31 years, personal training ...</td>\n",
       "      <td> 3259</td>\n",
       "      <td>  </td>\n",
       "      <td> 6</td>\n",
       "      <td> Web Developer | Argi Griego | Social Media Pho...</td>\n",
       "      <td> 2013-08</td>\n",
       "      <td>  </td>\n",
       "      <td> Project: www.socialzoo.net\\nGoal: Web Developm...</td>\n",
       "      <td>                   Social Zoo</td>\n",
       "      <td> 1</td>\n",
       "    </tr>\n",
       "    <tr>\n",
       "      <th>4</th>\n",
       "      <td> 925</td>\n",
       "      <td> 1350</td>\n",
       "      <td>  </td>\n",
       "      <td> ? Web Developer | ? Social Media Photography a...</td>\n",
       "      <td> Karate addict for 31 years, personal training ...</td>\n",
       "      <td> 3260</td>\n",
       "      <td>  </td>\n",
       "      <td> 6</td>\n",
       "      <td>                           Web Development Manager</td>\n",
       "      <td> 2012-05</td>\n",
       "      <td>  </td>\n",
       "      <td> E-commerce | and Campaign creator for DF Decor...</td>\n",
       "      <td> DF Decoracion Floral en León</td>\n",
       "      <td> 1</td>\n",
       "    </tr>\n",
       "  </tbody>\n",
       "</table>\n",
       "<p>5 rows × 14 columns</p>\n",
       "</div>"
      ],
      "text/plain": [
       "   idcv iduser main_title                                           headline  \\\n",
       "0   789     48                                                                 \n",
       "1   925   1350             ? Web Developer | ? Social Media Photography a...   \n",
       "2   925   1350             ? Web Developer | ? Social Media Photography a...   \n",
       "3   925   1350             ? Web Developer | ? Social Media Photography a...   \n",
       "4   925   1350             ? Web Developer | ? Social Media Photography a...   \n",
       "\n",
       "                                            interest    id idcity idsector  \\\n",
       "0                                                                            \n",
       "1  Karate addict for 31 years, personal training ...  3257               6   \n",
       "2  Karate addict for 31 years, personal training ...  3258               6   \n",
       "3  Karate addict for 31 years, personal training ...  3259               6   \n",
       "4  Karate addict for 31 years, personal training ...  3260               6   \n",
       "\n",
       "                                               title    start end  \\\n",
       "0                                                                   \n",
       "1                   Social Media Business Strategist  2013-12       \n",
       "2                   Google Digital Analytics Academy  2013-10       \n",
       "3  Web Developer | Argi Griego | Social Media Pho...  2013-08       \n",
       "4                            Web Development Manager  2012-05       \n",
       "\n",
       "                                         description  \\\n",
       "0                                                      \n",
       "1  Social Media Strategist: N-Tranz Records, was ...   \n",
       "2  Google Digital Analytics Academy, gave me the ...   \n",
       "3  Project: www.socialzoo.net\\nGoal: Web Developm...   \n",
       "4  E-commerce | and Campaign creator for DF Decor...   \n",
       "\n",
       "                        company current  \n",
       "0                                        \n",
       "1               N-Tranz Records       1  \n",
       "2                        Google       1  \n",
       "3                    Social Zoo       1  \n",
       "4  DF Decoracion Floral en León       1  \n",
       "\n",
       "[5 rows x 14 columns]"
      ]
     },
     "execution_count": 4,
     "metadata": {},
     "output_type": "execute_result"
    }
   ],
   "source": [
    "df_merged = df_cv.merge(df_experience, on='idcv', how='outer')\n",
    "df_merged = df_merged.fillna(\" \")\n",
    "print (\"%d rows of CVs merged\" % df_merged.shape[0])\n",
    "df_merged.head()"
   ]
  },
  {
   "cell_type": "code",
   "execution_count": 5,
   "metadata": {
    "collapsed": false
   },
   "outputs": [
    {
     "name": "stdout",
     "output_type": "stream",
     "text": [
      "877 rows of CVs merged and cleaned\n",
      "877 rows of CVs merged and cleaned and concat\n"
     ]
    },
    {
     "data": {
      "text/html": [
       "<div style=\"max-height:1000px;max-width:1500px;overflow:auto;\">\n",
       "<table border=\"1\" class=\"dataframe\">\n",
       "  <thead>\n",
       "    <tr style=\"text-align: right;\">\n",
       "      <th></th>\n",
       "      <th>idcv</th>\n",
       "      <th>iduser</th>\n",
       "      <th>main_title</th>\n",
       "      <th>headline</th>\n",
       "      <th>interest</th>\n",
       "      <th>title</th>\n",
       "      <th>description</th>\n",
       "      <th>text</th>\n",
       "    </tr>\n",
       "  </thead>\n",
       "  <tbody>\n",
       "    <tr>\n",
       "      <th>0</th>\n",
       "      <td> 789</td>\n",
       "      <td>   48</td>\n",
       "      <td>  </td>\n",
       "      <td>                                                  </td>\n",
       "      <td>                                                  </td>\n",
       "      <td>                                                  </td>\n",
       "      <td>                                                  </td>\n",
       "      <td>                                                  </td>\n",
       "    </tr>\n",
       "    <tr>\n",
       "      <th>1</th>\n",
       "      <td> 925</td>\n",
       "      <td> 1350</td>\n",
       "      <td>  </td>\n",
       "      <td> ? Web Developer | ? Social Media Photography a...</td>\n",
       "      <td> Karate addict for 31 years, personal training ...</td>\n",
       "      <td>                  Social Media Business Strategist</td>\n",
       "      <td> Social Media Strategist: N-Tranz Records, was ...</td>\n",
       "      <td>   Social Media Strategist: N-Tranz Records, wa...</td>\n",
       "    </tr>\n",
       "    <tr>\n",
       "      <th>2</th>\n",
       "      <td> 925</td>\n",
       "      <td> 1350</td>\n",
       "      <td>  </td>\n",
       "      <td> ? Web Developer | ? Social Media Photography a...</td>\n",
       "      <td> Karate addict for 31 years, personal training ...</td>\n",
       "      <td>                  Google Digital Analytics Academy</td>\n",
       "      <td> Google Digital Analytics Academy, gave me the ...</td>\n",
       "      <td>   Google Digital Analytics Academy, gave me th...</td>\n",
       "    </tr>\n",
       "    <tr>\n",
       "      <th>3</th>\n",
       "      <td> 925</td>\n",
       "      <td> 1350</td>\n",
       "      <td>  </td>\n",
       "      <td> ? Web Developer | ? Social Media Photography a...</td>\n",
       "      <td> Karate addict for 31 years, personal training ...</td>\n",
       "      <td> Web Developer | Argi Griego | Social Media Pho...</td>\n",
       "      <td> Project: www.socialzoo.net\\nGoal: Web Developm...</td>\n",
       "      <td>   Project: www.socialzoo.net\\nGoal: Web Develo...</td>\n",
       "    </tr>\n",
       "    <tr>\n",
       "      <th>4</th>\n",
       "      <td> 925</td>\n",
       "      <td> 1350</td>\n",
       "      <td>  </td>\n",
       "      <td> ? Web Developer | ? Social Media Photography a...</td>\n",
       "      <td> Karate addict for 31 years, personal training ...</td>\n",
       "      <td>                           Web Development Manager</td>\n",
       "      <td> E-commerce | and Campaign creator for DF Decor...</td>\n",
       "      <td>   E-commerce | and Campaign creator for DF Dec...</td>\n",
       "    </tr>\n",
       "  </tbody>\n",
       "</table>\n",
       "<p>5 rows × 8 columns</p>\n",
       "</div>"
      ],
      "text/plain": [
       "   idcv iduser main_title                                           headline  \\\n",
       "0   789     48                                                                 \n",
       "1   925   1350             ? Web Developer | ? Social Media Photography a...   \n",
       "2   925   1350             ? Web Developer | ? Social Media Photography a...   \n",
       "3   925   1350             ? Web Developer | ? Social Media Photography a...   \n",
       "4   925   1350             ? Web Developer | ? Social Media Photography a...   \n",
       "\n",
       "                                            interest  \\\n",
       "0                                                      \n",
       "1  Karate addict for 31 years, personal training ...   \n",
       "2  Karate addict for 31 years, personal training ...   \n",
       "3  Karate addict for 31 years, personal training ...   \n",
       "4  Karate addict for 31 years, personal training ...   \n",
       "\n",
       "                                               title  \\\n",
       "0                                                      \n",
       "1                   Social Media Business Strategist   \n",
       "2                   Google Digital Analytics Academy   \n",
       "3  Web Developer | Argi Griego | Social Media Pho...   \n",
       "4                            Web Development Manager   \n",
       "\n",
       "                                         description  \\\n",
       "0                                                      \n",
       "1  Social Media Strategist: N-Tranz Records, was ...   \n",
       "2  Google Digital Analytics Academy, gave me the ...   \n",
       "3  Project: www.socialzoo.net\\nGoal: Web Developm...   \n",
       "4  E-commerce | and Campaign creator for DF Decor...   \n",
       "\n",
       "                                                text  \n",
       "0                                                     \n",
       "1    Social Media Strategist: N-Tranz Records, wa...  \n",
       "2    Google Digital Analytics Academy, gave me th...  \n",
       "3    Project: www.socialzoo.net\\nGoal: Web Develo...  \n",
       "4    E-commerce | and Campaign creator for DF Dec...  \n",
       "\n",
       "[5 rows x 8 columns]"
      ]
     },
     "execution_count": 5,
     "metadata": {},
     "output_type": "execute_result"
    }
   ],
   "source": [
    "df_clean = df_merged[[\"idcv\", \"iduser\", \"main_title\", \"headline\", \"interest\", \"title\", \"description\"]]\n",
    "print (\"%d rows of CVs merged and cleaned\" % df_clean.shape[0])\n",
    "df_clean[\"text\"] = df_clean[\"main_title\"] + \" \" + df_clean[\"description\"] + \" \" + df_clean[\"headline\"] + \" \" + df_clean[\"interest\"] + \" \" + df_clean[\"title\"] \n",
    "print (\"%d rows of CVs merged and cleaned and concat\" % df_clean.shape[0])\n",
    "df_clean.head()"
   ]
  },
  {
   "cell_type": "code",
   "execution_count": null,
   "metadata": {
    "collapsed": false
   },
   "outputs": [],
   "source": [
    "def fun_apply(x):\n",
    "    #print type(x)\n",
    "    y = ''.join(str(x))\n",
    "    #print y\n",
    "    #print \"------\"\n",
    "    return y \n",
    "\n",
    "df_clean[\"text2\"] = df_clean[\"text\"].apply(lambda x: fun_apply(x))\n",
    "df_clean.head()"
   ]
  },
  {
   "cell_type": "code",
   "execution_count": 6,
   "metadata": {
    "collapsed": false
   },
   "outputs": [
    {
     "name": "stdout",
     "output_type": "stream",
     "text": [
      "417 rows of TEXT CVs .. grouped by!!\n",
      "idcv\n",
      "424     874            Directora de Desarrollo de Nego...\n",
      "789            0             \\nName: 789.0, dtype: object\n",
      "925     1      Social Media Strategist: N-Tranz Record...\n",
      "1464    8       Elaboración de planes y estrategias de...\n",
      "1542    13      TRANSPORTAR LA MERCANCIA, DESPUÉS DE O...\n",
      "dtype: object\n",
      "<class 'pandas.core.series.Series'>\n",
      "Float64Index([424.0, 789.0, 925.0, 1464.0, 1542.0, 1561.0, 1589.0, 1857.0, 1907.0, 2068.0, 2076.0, 2132.0, 2134.0, 2136.0, 2137.0, 2138.0, 2139.0, 2140.0, 2141.0, 2142.0, 2143.0, 2144.0, 2145.0, 2146.0, 2149.0, 2150.0, 2151.0, 2152.0, 2153.0, 2154.0, 2155.0, 2158.0, 2160.0, 2161.0, 2162.0, 2164.0, 2165.0, 2166.0, 2168.0, 2170.0, 2172.0, 2174.0, 2176.0, 2178.0, 2179.0, 2181.0, 2184.0, 2185.0, 2188.0, 2191.0, 2192.0, 2193.0, 2195.0, 2197.0, 2198.0, 2199.0, 2201.0, 2202.0, 2204.0, 2208.0, 2211.0, 2213.0, 2215.0, 2218.0, 2220.0, 2222.0, 2224.0, 2225.0, 2226.0, 2228.0, 2230.0, 2232.0, 2233.0, 2235.0, 2236.0, 2237.0, 2239.0, 2241.0, 2242.0, 2244.0, 2247.0, 2248.0, 2252.0, 2253.0, 2254.0, 2256.0, 2258.0, 2260.0, 2262.0, 2264.0, 2267.0, 2269.0, 2270.0, 2271.0, 2277.0, 2279.0, 2280.0, 2282.0, 2283.0, 2284.0, ...], dtype='object')\n",
      "Int64Index([1, 2, 3, 4, 5, 6, 7, 8, 9, 10, 11, 12, 13, 14, 15, 16, 17, 18, 19, 20, 21, 22, 23, 24, 25, 26, 27, 28, 29, 30, 31, 32, 33, 34, 35, 36, 37, 38, 39, 40, 41, 42, 43, 44, 45, 46, 47, 48, 49, 50, 51, 52, 53, 54, 55, 56, 57, 58, 59, 60, 61, 62, 63, 64, 65, 66, 67, 68, 69, 70, 71, 72, 73, 74, 75, 76, 77, 78, 79, 80, 81, 82, 83, 84, 85, 86, 87, 88, 89, 90, 91, 92, 93, 94, 95, 96, 97, 98, 99, 100, ...], dtype='int64')\n"
     ]
    }
   ],
   "source": [
    "myserie = df_clean.groupby([\"idcv\"])['text'].apply(lambda x: ''.join(str(x)))\n",
    "print (\"%d rows of TEXT CVs .. grouped by!!\" % myserie.shape[0])\n",
    "print myserie.head()\n",
    "print type(myserie)\n",
    "print myserie.index\n",
    "myserie.index=range(1,myserie.shape[0]+1)\n",
    "print myserie.index"
   ]
  },
  {
   "cell_type": "code",
   "execution_count": 7,
   "metadata": {
    "collapsed": false
   },
   "outputs": [
    {
     "name": "stdout",
     "output_type": "stream",
     "text": [
      "417 rows of IDCVs .. grouped by!!\n",
      "idcv\n",
      "424      [424.0]\n",
      "789      [789.0]\n",
      "925      [925.0]\n",
      "1464    [1464.0]\n",
      "1542    [1542.0]\n",
      "dtype: object\n",
      "<class 'pandas.core.series.Series'>\n",
      "Float64Index([424.0, 789.0, 925.0, 1464.0, 1542.0, 1561.0, 1589.0, 1857.0, 1907.0, 2068.0, 2076.0, 2132.0, 2134.0, 2136.0, 2137.0, 2138.0, 2139.0, 2140.0, 2141.0, 2142.0, 2143.0, 2144.0, 2145.0, 2146.0, 2149.0, 2150.0, 2151.0, 2152.0, 2153.0, 2154.0, 2155.0, 2158.0, 2160.0, 2161.0, 2162.0, 2164.0, 2165.0, 2166.0, 2168.0, 2170.0, 2172.0, 2174.0, 2176.0, 2178.0, 2179.0, 2181.0, 2184.0, 2185.0, 2188.0, 2191.0, 2192.0, 2193.0, 2195.0, 2197.0, 2198.0, 2199.0, 2201.0, 2202.0, 2204.0, 2208.0, 2211.0, 2213.0, 2215.0, 2218.0, 2220.0, 2222.0, 2224.0, 2225.0, 2226.0, 2228.0, 2230.0, 2232.0, 2233.0, 2235.0, 2236.0, 2237.0, 2239.0, 2241.0, 2242.0, 2244.0, 2247.0, 2248.0, 2252.0, 2253.0, 2254.0, 2256.0, 2258.0, 2260.0, 2262.0, 2264.0, 2267.0, 2269.0, 2270.0, 2271.0, 2277.0, 2279.0, 2280.0, 2282.0, 2283.0, 2284.0, ...], dtype='object')\n",
      "Int64Index([1, 2, 3, 4, 5, 6, 7, 8, 9, 10, 11, 12, 13, 14, 15, 16, 17, 18, 19, 20, 21, 22, 23, 24, 25, 26, 27, 28, 29, 30, 31, 32, 33, 34, 35, 36, 37, 38, 39, 40, 41, 42, 43, 44, 45, 46, 47, 48, 49, 50, 51, 52, 53, 54, 55, 56, 57, 58, 59, 60, 61, 62, 63, 64, 65, 66, 67, 68, 69, 70, 71, 72, 73, 74, 75, 76, 77, 78, 79, 80, 81, 82, 83, 84, 85, 86, 87, 88, 89, 90, 91, 92, 93, 94, 95, 96, 97, 98, 99, 100, ...], dtype='int64')\n"
     ]
    }
   ],
   "source": [
    "myserie2 = df_clean.groupby([\"idcv\"])[\"idcv\"].unique()\n",
    "print (\"%d rows of IDCVs .. grouped by!!\" % myserie2.shape[0])\n",
    "print myserie2.head()\n",
    "print type(myserie2)\n",
    "print myserie2.index\n",
    "myserie2.index=range(1,myserie2.shape[0]+1)\n",
    "print myserie2.index\n",
    "#for idcv in myserie2:\n",
    "#    print idcv[0]\n"
   ]
  },
  {
   "cell_type": "code",
   "execution_count": 8,
   "metadata": {
    "collapsed": false
   },
   "outputs": [
    {
     "data": {
      "text/html": [
       "<div style=\"max-height:1000px;max-width:1500px;overflow:auto;\">\n",
       "<table border=\"1\" class=\"dataframe\">\n",
       "  <thead>\n",
       "    <tr style=\"text-align: right;\">\n",
       "      <th></th>\n",
       "      <th>cleantext</th>\n",
       "      <th>idcv</th>\n",
       "    </tr>\n",
       "  </thead>\n",
       "  <tbody>\n",
       "    <tr>\n",
       "      <th>1</th>\n",
       "      <td> 874            Directora de Desarrollo de Nego...</td>\n",
       "      <td>  [424.0]</td>\n",
       "    </tr>\n",
       "    <tr>\n",
       "      <th>2</th>\n",
       "      <td>        0             \\nName: 789.0, dtype: object</td>\n",
       "      <td>  [789.0]</td>\n",
       "    </tr>\n",
       "    <tr>\n",
       "      <th>3</th>\n",
       "      <td> 1      Social Media Strategist: N-Tranz Record...</td>\n",
       "      <td>  [925.0]</td>\n",
       "    </tr>\n",
       "    <tr>\n",
       "      <th>4</th>\n",
       "      <td> 8       Elaboración de planes y estrategias de...</td>\n",
       "      <td> [1464.0]</td>\n",
       "    </tr>\n",
       "    <tr>\n",
       "      <th>5</th>\n",
       "      <td> 13      TRANSPORTAR LA MERCANCIA, DESPUÉS DE O...</td>\n",
       "      <td> [1542.0]</td>\n",
       "    </tr>\n",
       "  </tbody>\n",
       "</table>\n",
       "<p>5 rows × 2 columns</p>\n",
       "</div>"
      ],
      "text/plain": [
       "                                           cleantext      idcv\n",
       "1  874            Directora de Desarrollo de Nego...   [424.0]\n",
       "2         0             \\nName: 789.0, dtype: object   [789.0]\n",
       "3  1      Social Media Strategist: N-Tranz Record...   [925.0]\n",
       "4  8       Elaboración de planes y estrategias de...  [1464.0]\n",
       "5  13      TRANSPORTAR LA MERCANCIA, DESPUÉS DE O...  [1542.0]\n",
       "\n",
       "[5 rows x 2 columns]"
      ]
     },
     "execution_count": 8,
     "metadata": {},
     "output_type": "execute_result"
    }
   ],
   "source": [
    "df2 = pd.DataFrame()\n",
    "df2['cleantext'] = myserie\n",
    "df2['idcv'] = myserie2\n",
    "df2.head()\n",
    "\n",
    "#df2['idcv'] = pd.Series(myserie2,index=range(0,len(myserie2)-1))\n",
    "#df2['idcv2'] = pd.Series(myserie2)\n",
    "#df2.head()"
   ]
  },
  {
   "cell_type": "code",
   "execution_count": 9,
   "metadata": {
    "collapsed": false
   },
   "outputs": [
    {
     "name": "stdout",
     "output_type": "stream",
     "text": [
      "Int64Index([1, 2, 3, 4, 5, 6, 7, 8, 9, 10, 11, 12, 13, 14, 15, 16, 17, 18, 19, 20, 21, 22, 23, 24, 25, 26, 27, 28, 29, 30, 31, 32, 33, 34, 35, 36, 37, 38, 39, 40, 41, 42, 43, 44, 45, 46, 47, 48, 49, 50, 51, 52, 53, 54, 55, 56, 57, 58, 59, 60, 61, 62, 63, 64, 65, 66, 67, 68, 69, 70, 71, 72, 73, 74, 75, 76, 77, 78, 79, 80, 81, 82, 83, 84, 85, 86, 87, 88, 89, 90, 91, 92, 93, 94, 95, 96, 97, 98, 99, 100, ...], dtype='int64')\n"
     ]
    }
   ],
   "source": [
    "print df2.index"
   ]
  },
  {
   "cell_type": "markdown",
   "metadata": {},
   "source": [
    "### Para Ofertas"
   ]
  },
  {
   "cell_type": "code",
   "execution_count": 10,
   "metadata": {
    "collapsed": false
   },
   "outputs": [
    {
     "name": "stdout",
     "output_type": "stream",
     "text": [
      "OFFERS  >> Extracting features from the data using a sparse TF-IDF vectorizer\n",
      "done in 0.158166s\n",
      "n_samples: 720, n_features: 15842\n"
     ]
    }
   ],
   "source": [
    "# extract features\n",
    "from sklearn.feature_extraction.text import TfidfVectorizer\n",
    "from time import time\n",
    "\n",
    "print(\"OFFERS  >> Extracting features from the data using a sparse TF-IDF vectorizer\")\n",
    "t0 = time()\n",
    "\n",
    "offer_tfidf_vectorizer = TfidfVectorizer(analyzer=u'word', use_idf=True, max_df=0.3, lowercase=False)\n",
    "#vectorizer = TfidfVectorizer(analyzer=u'word', use_idf=True)\n",
    "offer_tfidf_matrix = offer_tfidf_vectorizer.fit_transform(df_offer[\"text\"].tolist())\n",
    "\n",
    "duration = time() - t0\n",
    "print(\"done in %fs\" % (duration))\n",
    "print(\"n_samples: %d, n_features: %d\" % offer_tfidf_matrix.shape)\n",
    "\n",
    "offer_tfidf_feature_names = offer_tfidf_vectorizer.get_feature_names()"
   ]
  },
  {
   "cell_type": "code",
   "execution_count": 11,
   "metadata": {
    "collapsed": false
   },
   "outputs": [],
   "source": [
    "import csv\n",
    "with open(\"offer_tfidf.csv\", \"w\") as file:\n",
    "    writer = csv.writer(file, delimiter=\",\")\n",
    "    writer.writerow([\"doc\",\"referencia\", \"word\", \"score\"])\n",
    " \n",
    "    doc_id = 0\n",
    "    for doc, row in zip(offer_tfidf_matrix.todense(), df_offer.iterrows()):\n",
    "        #print \"Document %d\" %(doc_id)\n",
    "        ref = row[1]['referencia'] \n",
    "                            \n",
    "        word_id = 0\n",
    "        for score in doc.tolist()[0]:\n",
    "            if score > 0:\n",
    "                word = offer_tfidf_feature_names[word_id]\n",
    "                writer.writerow([doc_id+1, ref, word.encode(\"utf-8\"), score])\n",
    "            word_id +=1\n",
    "        doc_id +=1"
   ]
  },
  {
   "cell_type": "markdown",
   "metadata": {},
   "source": [
    "### Para CVs"
   ]
  },
  {
   "cell_type": "code",
   "execution_count": 12,
   "metadata": {
    "collapsed": false
   },
   "outputs": [
    {
     "name": "stdout",
     "output_type": "stream",
     "text": [
      "CVs >> Extracting features from the data using a sparse TF-IDF vectorizer\n",
      "done in 0.014800s\n",
      "n_samples: 417, n_features: 2843\n"
     ]
    }
   ],
   "source": [
    "# extract features\n",
    "print(\"CVs >> Extracting features from the data using a sparse TF-IDF vectorizer\")\n",
    "t0 = time()\n",
    "\n",
    "tfidf_vectorizer = TfidfVectorizer(analyzer=u'word', use_idf=True, max_df=0.3, lowercase=False)\n",
    "#vectorizer = TfidfVectorizer(analyzer=u'word', use_idf=True)\n",
    "tfidf_matrix = tfidf_vectorizer.fit_transform(df2['cleantext'].tolist())\n",
    "\n",
    "duration = time() - t0\n",
    "print(\"done in %fs\" % (duration))\n",
    "print(\"n_samples: %d, n_features: %d\" % tfidf_matrix.shape)\n",
    "\n",
    "tfidf_feature_names = tfidf_vectorizer.get_feature_names()"
   ]
  },
  {
   "cell_type": "code",
   "execution_count": 13,
   "metadata": {
    "collapsed": false
   },
   "outputs": [],
   "source": [
    "import csv\n",
    "with open(\"cvs_tfidf.csv\", \"w\") as file:\n",
    "    writer = csv.writer(file, delimiter=\",\")\n",
    "    writer.writerow([\"doc\",\"idcv\", \"word\", \"score\"])\n",
    " \n",
    "    doc_id = 0\n",
    "    for doc, row in zip(tfidf_matrix.todense(), myserie2):\n",
    "    #for doc in tfidf_matrix.todense():\n",
    "        #print \"Document %d\" %(doc_id)\n",
    "        idcv = row[0] \n",
    "        word_id = 0\n",
    "        for score in doc.tolist()[0]:\n",
    "            if score > 0:\n",
    "                word = tfidf_feature_names[word_id]\n",
    "                writer.writerow([doc_id+1, idcv,word.encode(\"utf-8\"), score])\n",
    "            word_id +=1\n",
    "        doc_id +=1"
   ]
  },
  {
   "cell_type": "markdown",
   "metadata": {},
   "source": [
    "###Similarity\n"
   ]
  },
  {
   "cell_type": "code",
   "execution_count": 14,
   "metadata": {
    "collapsed": false
   },
   "outputs": [
    {
     "name": "stdout",
     "output_type": "stream",
     "text": [
      "720 rows .. 1st\n",
      "1137 rows .. append!!\n"
     ]
    },
    {
     "data": {
      "text/plain": [
       "0    HXN342\n",
       "1     T8962\n",
       "2    HQX347\n",
       "3    HQX297\n",
       "4    HQR734\n",
       "dtype: object"
      ]
     },
     "execution_count": 14,
     "metadata": {},
     "output_type": "execute_result"
    }
   ],
   "source": [
    "df_identificadores = pd.DataFrame()\n",
    "df_identificadores = df_offer[\"referencia\"]\n",
    "df_identificadores.head()\n",
    "print (\"%d rows .. 1st\" % df_identificadores.shape[0])\n",
    "\n",
    "df_ids_all = df_identificadores.append(df2[\"idcv\"]).reset_index(drop=True)\n",
    "\n",
    "print (\"%d rows .. append!!\" % df_ids_all.shape[0])\n",
    "df_ids_all.head()"
   ]
  },
  {
   "cell_type": "code",
   "execution_count": 15,
   "metadata": {
    "collapsed": false
   },
   "outputs": [
    {
     "name": "stdout",
     "output_type": "stream",
     "text": [
      "720 rows .. 1st\n",
      "1137 rows .. append!!\n"
     ]
    },
    {
     "data": {
      "text/plain": [
       "0    Business Development Manager Algeria         I...\n",
       "1    Directeur de Ressources Humaines         Notre...\n",
       "2    Gerente de Proyectos I (Junior)         BT Glo...\n",
       "3    Lider de Proyectos Plataforma Linux         BT...\n",
       "4    Analista de Gestión de Eventos de Infraestruct...\n",
       "dtype: object"
      ]
     },
     "execution_count": 15,
     "metadata": {},
     "output_type": "execute_result"
    }
   ],
   "source": [
    "df_all = pd.DataFrame()\n",
    "df_all = df_offer[\"text\"]\n",
    "df_all.head()\n",
    "print (\"%d rows .. 1st\" % df_all.shape[0])\n",
    "df_completo = df_all.append(df2[\"cleantext\"]).reset_index(drop=True)\n",
    "\n",
    "print (\"%d rows .. append!!\" % df_completo.shape[0])\n",
    "df_completo.head()"
   ]
  },
  {
   "cell_type": "code",
   "execution_count": 16,
   "metadata": {
    "collapsed": false
   },
   "outputs": [
    {
     "data": {
      "text/plain": [
       "'13      TRANSPORTAR LA MERCANCIA, DESPU\\xc3\\x89S DE ORGANIZ...\\n14      ENCARGADO DE M\\xc3\\x81QUINA PROYECTORA DE YESO, PE\\xc3\\x93...\\n15      RECOGIDA DE MUESTRAS, CONTROL DE TIEMPO DE L...\\nName: 1542.0, dtype: object'"
      ]
     },
     "execution_count": 16,
     "metadata": {},
     "output_type": "execute_result"
    }
   ],
   "source": [
    "df_completo[724]"
   ]
  },
  {
   "cell_type": "code",
   "execution_count": 17,
   "metadata": {
    "collapsed": false
   },
   "outputs": [
    {
     "name": "stdout",
     "output_type": "stream",
     "text": [
      "ALL DOCS >> Extracting features from the data using a sparse TF-IDF vectorizer\n",
      "done in 0.216308s\n",
      "n_samples: 417, n_features: 2843\n",
      "\n",
      "\n",
      "Docs similarity >> distance matrix:\n",
      "(1137, 1137)\n",
      "[ 1.          0.00649559  0.04562086 ...,  0.          0.          0.        ]\n"
     ]
    }
   ],
   "source": [
    "# extract features\n",
    "print(\"ALL DOCS >> Extracting features from the data using a sparse TF-IDF vectorizer\")\n",
    "t0 = time()\n",
    "\n",
    "tfidf_vectorizer = TfidfVectorizer(analyzer=u'word', use_idf=True, max_df=0.3, lowercase=False)\n",
    "#vectorizer = TfidfVectorizer(analyzer=u'word', use_idf=True)\n",
    "tfidf_all = tfidf_vectorizer.fit_transform(df_completo.tolist())\n",
    "\n",
    "duration = time() - t0\n",
    "print(\"done in %fs\" % (duration))\n",
    "print(\"n_samples: %d, n_features: %d\" % tfidf_matrix.shape)\n",
    "\n",
    "pairwise_similarity = tfidf_all * tfidf_all.T\n",
    "\n",
    "# docs similarity\n",
    "distance_matrix = (pairwise_similarity).A\n",
    "print \"\\n\\nDocs similarity >> distance matrix:\"\n",
    "print distance_matrix.shape\n",
    "print distance_matrix[0]"
   ]
  },
  {
   "cell_type": "code",
   "execution_count": 18,
   "metadata": {
    "collapsed": false,
    "scrolled": true
   },
   "outputs": [],
   "source": [
    "#ojo con los indices... ver lo que sale en df_completo.index[719:721]\n",
    "\n",
    "import csv\n",
    "with open(\"match.csv\", \"w\") as file:\n",
    "    writer = csv.writer(file, delimiter=\",\")\n",
    "    writer.writerow([\"doc1\",\"doc2\", \"score\"])\n",
    "    for x in range(len(df_ids_all)-1):\n",
    "        for y in range(len(df_ids_all)-1):\n",
    "            score=distance_matrix[x][y]\n",
    "            if x < y and score > 0.1:\n",
    "                if type(df_ids_all[x]) != str and type(df_ids_all[y]) != str: # es un series panda y cojo el indice\n",
    "                    iddocx= int(df_ids_all[df_ids_all[x]].index[0])\n",
    "                    iddocy= int(df_ids_all[df_ids_all[y]].index[0])\n",
    "                    #print iddoc\n",
    "                    writer.writerow([str(iddocx), str(iddocy), score])\n",
    "                elif type(df_ids_all[y]) != str:\n",
    "                    iddoc= int(df_ids_all[df_ids_all[y]].index[0])\n",
    "                    #print iddoc\n",
    "                    writer.writerow([str(df_ids_all[x]), str(iddoc), score])\n",
    "                elif type(df_ids_all[x]) != str:\n",
    "                    iddoc= int(df_ids_all[df_ids_all[x]].index[0])\n",
    "                    writer.writerow([str(iddoc), str(df_ids_all[y]), score])\n",
    "                #print \"[\"+str(x)+\",\"+str(y)+\"]= \"+str(score)+\" -- doc1= \"+str(df_ids_all[x])+\" y doc2= \"+str(df_ids_all[y])"
   ]
  },
  {
   "cell_type": "markdown",
   "metadata": {},
   "source": [
    "### Match"
   ]
  },
  {
   "cell_type": "code",
   "execution_count": null,
   "metadata": {
    "collapsed": true
   },
   "outputs": [],
   "source": []
  },
  {
   "cell_type": "code",
   "execution_count": null,
   "metadata": {
    "collapsed": true
   },
   "outputs": [],
   "source": []
  }
 ],
 "metadata": {
  "kernelspec": {
   "display_name": "Python 2",
   "language": "python",
   "name": "python2"
  },
  "language_info": {
   "codemirror_mode": {
    "name": "ipython",
    "version": 2
   },
   "file_extension": ".py",
   "mimetype": "text/x-python",
   "name": "python",
   "nbconvert_exporter": "python",
   "pygments_lexer": "ipython2",
   "version": "2.7.6"
  }
 },
 "nbformat": 4,
 "nbformat_minor": 0
}
